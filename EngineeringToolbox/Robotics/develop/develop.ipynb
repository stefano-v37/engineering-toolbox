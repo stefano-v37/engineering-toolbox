{
 "cells": [
  {
   "cell_type": "markdown",
   "metadata": {},
   "source": [
    "# Kinematics"
   ]
  },
  {
   "cell_type": "markdown",
   "metadata": {},
   "source": [
    "### Point"
   ]
  },
  {
   "cell_type": "markdown",
   "metadata": {},
   "source": [
    "A rigid body is completely described by position and orientation.\n",
    "The position of a point can be written as a 3x1 vector"
   ]
  },
  {
   "cell_type": "code",
   "execution_count": 1,
   "metadata": {},
   "outputs": [],
   "source": [
    "from EngineeringToolbox import *"
   ]
  },
  {
   "cell_type": "code",
   "execution_count": 229,
   "metadata": {},
   "outputs": [],
   "source": [
    "import numpy as np\n",
    "\n",
    "__x__ = Point(1,0,0)\n",
    "__y__ = Point(0,1,0)\n",
    "__y__ = Point(0,0,1)\n",
    "__O__ = Point(0,0,0)\n",
    "\n",
    "\n",
    "class CarthesianDict(dict):\n",
    "    def __init__(self, *args, **kwargs):\n",
    "        super(CarthesianDict, self).__init__(*args, **kwargs)\n",
    "        self.__dict__ = dict()\n",
    "\n",
    "class Point(CarthesianDict):\n",
    "    \n",
    "    def __init__(self, x, y, z):\n",
    "        self.x = x\n",
    "        self.y = y\n",
    "        self.z = z\n",
    "        self.val = dict(x=x, y=y, z=z)\n",
    "#         super(CarthesianDict, self).__init__(self.val)\n",
    "#         self.__dict__ = self\n",
    "        self.vector = self.vector()\n",
    "        \n",
    "    def vector(self):\n",
    "        return np.array([self.x, self.y, self.z])\n",
    "        \n",
    "        \n",
    "#     def set_position(self, x,y,z):\n",
    "#         self.position = dict(x=x, y=y, z=z)"
   ]
  },
  {
   "cell_type": "code",
   "execution_count": 228,
   "metadata": {},
   "outputs": [
    {
     "data": {
      "text/plain": [
       "1"
      ]
     },
     "execution_count": 228,
     "metadata": {},
     "output_type": "execute_result"
    }
   ],
   "source": [
    "a = Point(1,2,3)\n",
    "a.val['x']"
   ]
  },
  {
   "cell_type": "raw",
   "metadata": {},
   "source": [
    "O = Point()\n",
    "O.set_position(1,2,3)\n",
    "\n",
    "print(O.position)"
   ]
  },
  {
   "cell_type": "markdown",
   "metadata": {},
   "source": [
    "### Frame"
   ]
  },
  {
   "cell_type": "markdown",
   "metadata": {},
   "source": [
    "O_, x_, y_, z_ is a frame with origin in O_ and x_, y_, z_ unit vectors.\n",
    "All the inputs are related to the global origin"
   ]
  },
  {
   "cell_type": "code",
   "execution_count": 273,
   "metadata": {},
   "outputs": [
    {
     "data": {
      "text/plain": [
       "{'0': <__main__.Axis at 0x25034c02700>,\n",
       " '1': <__main__.Axis at 0x25034c02400>,\n",
       " '2': <__main__.Axis at 0x25034c02610>}"
      ]
     },
     "execution_count": 273,
     "metadata": {},
     "output_type": "execute_result"
    }
   ],
   "source": [
    "class Axis:\n",
    "    def __init__(self, x, y, z, origin = None):\n",
    "        if origin:\n",
    "            self.origin = origin\n",
    "        else:\n",
    "            self.origin = __O__\n",
    "        self.end = Point(x,y,z)\n",
    "        self.vector = self.vector()\n",
    "        self = self.__dict__\n",
    "            \n",
    "    def vector(self):\n",
    "        return self.end.vector - self.origin.vector\n",
    "    \n",
    "__X__ = Axis(1,0,0)\n",
    "__Y__ = Axis(0,1,0)\n",
    "__Z__ = Axis(0,0,1)\n",
    "\n",
    "class Frame:\n",
    "    def __init__(self, items):\n",
    "        self.size = len(items)\n",
    "        self.axes = {str(i) : items[i] for i in range(len(items))}\n",
    "#         vectors in line\n",
    "        self.vector = np.array([item.vector for _, item in self.axes.items()])\n",
    "        \n",
    "__F__ = Frame([__X__, __Y__, __Z__])\n",
    "__F__.axes\n",
    "        \n",
    "        \n",
    "#     def init_vector(self):\n",
    "#         return self.x*X + self.y*Y + self.z*Z\n",
    "    \n",
    "#     def apply_rotation(self, rot):\n",
    "#         self.vector = self.vector.dot(rot.rot_X).dot(rot.rot_Y).dot(rot.rot_Z)\n",
    "#         self.x = self.vector[0]\n",
    "#         self.y = self.vector[1]\n",
    "#         self.z = self.vector[2]\n",
    "\n",
    "# class Frame:\n",
    "#     def init_origin(self,x_,y_,z_):\n",
    "#         self.origin = Point()\n",
    "#         self.origin.set_position(x_,y_,z_)\n",
    "#     def init_axis(self, X_, Y_, Z_):\n",
    "#         self.axis = dict(x=Axis(X_[0], X_[1], X_[2]), y=Axis(Y_[0], Y_[1], Y_[2]), z=Axis(Z_[0], Z_[1], Z_[2]))\n",
    "#     def apply_rotation(self, rot):\n",
    "#         self.axis['x'].apply_rotation(rot)\n",
    "#         self.axis['y'].apply_rotation(rot)\n",
    "#         self.axis['z'].apply_rotation(rot)"
   ]
  },
  {
   "cell_type": "code",
   "execution_count": 263,
   "metadata": {},
   "outputs": [
    {
     "data": {
      "text/plain": [
       "array([1, 0, 0])"
      ]
     },
     "execution_count": 263,
     "metadata": {},
     "output_type": "execute_result"
    }
   ],
   "source": [
    "X = Axis(1,0,0)\n",
    "X.end.vector"
   ]
  },
  {
   "cell_type": "raw",
   "metadata": {},
   "source": [
    "X = np.array([1,0,0])\n",
    "Y = np.array([0,1,0])\n",
    "Z = np.array([0,0,1])\n",
    "\n",
    "class Axis:\n",
    "    def __init__(self, x, y, z):\n",
    "        self.x = x\n",
    "        self.y = y\n",
    "        self.z = z\n",
    "        self.vector = self.init_vector()\n",
    "        \n",
    "    def init_vector(self):\n",
    "        return self.x*X + self.y*Y + self.z*Z\n",
    "    \n",
    "    def apply_rotation(self, rot):\n",
    "        self.vector = self.vector.dot(rot.rot_X).dot(rot.rot_Y).dot(rot.rot_Z)\n",
    "        self.x = self.vector[0]\n",
    "        self.y = self.vector[1]\n",
    "        self.z = self.vector[2]\n",
    "\n",
    "class Frame:\n",
    "    def init_origin(self,x_,y_,z_):\n",
    "        self.origin = Point()\n",
    "        self.origin.set_position(x_,y_,z_)\n",
    "    def init_axis(self, X_, Y_, Z_):\n",
    "        self.axis = dict(x=Axis(X_[0], X_[1], X_[2]), y=Axis(Y_[0], Y_[1], Y_[2]), z=Axis(Z_[0], Z_[1], Z_[2]))\n",
    "    def apply_rotation(self, rot):\n",
    "        self.axis['x'].apply_rotation(rot)\n",
    "        self.axis['y'].apply_rotation(rot)\n",
    "        self.axis['z'].apply_rotation(rot)"
   ]
  },
  {
   "cell_type": "code",
   "execution_count": 140,
   "metadata": {},
   "outputs": [
    {
     "ename": "NameError",
     "evalue": "name 'Frame' is not defined",
     "output_type": "error",
     "traceback": [
      "\u001b[1;31m---------------------------------------------------------------------------\u001b[0m",
      "\u001b[1;31mNameError\u001b[0m                                 Traceback (most recent call last)",
      "\u001b[1;32m<ipython-input-140-47573787e2c1>\u001b[0m in \u001b[0;36m<module>\u001b[1;34m\u001b[0m\n\u001b[1;32m----> 1\u001b[1;33m \u001b[0mF\u001b[0m \u001b[1;33m=\u001b[0m \u001b[0mFrame\u001b[0m\u001b[1;33m(\u001b[0m\u001b[1;33m)\u001b[0m\u001b[1;33m\u001b[0m\u001b[1;33m\u001b[0m\u001b[0m\n\u001b[0m\u001b[0;32m      2\u001b[0m \u001b[0mF\u001b[0m\u001b[1;33m.\u001b[0m\u001b[0minit_origin\u001b[0m\u001b[1;33m(\u001b[0m\u001b[1;36m1\u001b[0m\u001b[1;33m,\u001b[0m\u001b[1;36m2\u001b[0m\u001b[1;33m,\u001b[0m\u001b[1;36m3\u001b[0m\u001b[1;33m)\u001b[0m\u001b[1;33m\u001b[0m\u001b[1;33m\u001b[0m\u001b[0m\n\u001b[0;32m      3\u001b[0m \u001b[0mprint\u001b[0m\u001b[1;33m(\u001b[0m\u001b[0mF\u001b[0m\u001b[1;33m.\u001b[0m\u001b[0morigin\u001b[0m\u001b[1;33m.\u001b[0m\u001b[0mposition\u001b[0m\u001b[1;33m)\u001b[0m\u001b[1;33m\u001b[0m\u001b[1;33m\u001b[0m\u001b[0m\n\u001b[0;32m      4\u001b[0m \u001b[1;33m\u001b[0m\u001b[0m\n\u001b[0;32m      5\u001b[0m F.init_axis((1,0,0),\n",
      "\u001b[1;31mNameError\u001b[0m: name 'Frame' is not defined"
     ]
    }
   ],
   "source": [
    "F = Frame()\n",
    "F.init_origin(1,2,3)\n",
    "print(F.origin.position)\n",
    "\n",
    "F.init_axis((1,0,0),\n",
    "            (0,1,0),\n",
    "           (0,0,1))\n",
    "print(F.axis['x'].vector)"
   ]
  },
  {
   "cell_type": "markdown",
   "metadata": {},
   "source": [
    "### Rotation matrix"
   ]
  },
  {
   "cell_type": "markdown",
   "metadata": {},
   "source": [
    "3x3 matrix whose column vectors are orthonormal frame.\n",
    "It is orthogonal matrix (xTy = 0, xTx = 1, RTR = I, RT = R-1)"
   ]
  },
  {
   "cell_type": "markdown",
   "metadata": {},
   "source": [
    "##### elementary rotations"
   ]
  },
  {
   "cell_type": "markdown",
   "metadata": {},
   "source": [
    "Rotation around one of the coordinate axes. Positive if counterclockwise"
   ]
  },
  {
   "cell_type": "raw",
   "metadata": {},
   "source": [
    "class RotationMatrix:\n",
    "    def __init__(self, gamma, beta, alpha):\n",
    "        # around which axis\n",
    "        self.rot_X = self.make_X_rot(alpha)\n",
    "        self.rot_Y = self.make_Y_rot(beta)\n",
    "        self.rot_Z = self.make_Z_rot(gamma)\n",
    "        \n",
    "    def make_X_rot(self, gamma):\n",
    "        x_rotation = [1, 0, 0]\n",
    "        y_rotation = [0, np.cos(gamma), np.sin(gamma)]\n",
    "        z_rotation = [0, -np.sin(gamma), np.cos(gamma)]\n",
    "        return np.array((x_rotation, y_rotation, z_rotation)).T\n",
    "    \n",
    "    def make_Y_rot(self, beta):\n",
    "        x_rotation = [np.cos(beta), 0, -np.sin(beta)]\n",
    "        y_rotation = [0, 1, 0]\n",
    "        z_rotation = [np.sin(beta), 0, np.cos(beta)]\n",
    "        return np.array((x_rotation, y_rotation, z_rotation)).T\n",
    "    \n",
    "    def make_Z_rot(self, alpha):\n",
    "        x_rotation = [np.cos(alpha), np.sin(alpha), 0]\n",
    "        y_rotation = [-np.sin(alpha), np.cos(alpha), 0]\n",
    "        z_rotation = [0, 0, 1]\n",
    "        return np.array((x_rotation, y_rotation, z_rotation)).T"
   ]
  },
  {
   "cell_type": "code",
   "execution_count": 4,
   "metadata": {},
   "outputs": [
    {
     "name": "stdout",
     "output_type": "stream",
     "text": [
      "Rotation around X of 0.2 \n",
      " [[ 1.          0.          0.        ]\n",
      " [ 0.          0.98006658 -0.19866933]\n",
      " [ 0.          0.19866933  0.98006658]] \n",
      "\n",
      "Rotation around Y of 0.5 \n",
      " [[ 0.87758256  0.          0.47942554]\n",
      " [ 0.          1.          0.        ]\n",
      " [-0.47942554  0.          0.87758256]] \n",
      "\n",
      "Rotation around Z of 0.1 \n",
      " [[ 0.54030231  0.84147098  0.        ]\n",
      " [-0.84147098  0.54030231  0.        ]\n",
      " [ 0.          0.          1.        ]]\n"
     ]
    }
   ],
   "source": [
    "rot = RotationMatrix(0.2,0.5,1)\n",
    "print('Rotation around X of {}' .format(0.2), '\\n', rot.rot_X, '\\n')\n",
    "print('Rotation around Y of {}' .format(0.5), '\\n', rot.rot_Y, '\\n')\n",
    "print('Rotation around Z of {}' .format(0.1), '\\n', rot.rot_Z)"
   ]
  },
  {
   "cell_type": "markdown",
   "metadata": {},
   "source": [
    "### Exercise 1"
   ]
  },
  {
   "cell_type": "code",
   "execution_count": 5,
   "metadata": {},
   "outputs": [
    {
     "data": {
      "text/plain": [
       "3"
      ]
     },
     "execution_count": 5,
     "metadata": {},
     "output_type": "execute_result"
    }
   ],
   "source": [
    "F = Frame()\n",
    "F.init_origin(4,5.1,0.2)\n",
    "\n",
    "F.init_axis((0,1,0),\n",
    "            (1,0,0),\n",
    "           (0,0,1))\n",
    "\n",
    "rot = RotationMatrix(1.2,np.pi,-0.4)\n",
    "\n",
    "from copy import deepcopy\n",
    "\n",
    "F_rot = deepcopy(F)\n",
    "F_rot.apply_rotation(rot)\n",
    "\n",
    "sum(F_rot.axis['x'].vector.round(5) == [0.14111, 0.33375, 0.93204])\n",
    "sum(F_rot.axis['y'].vector.round(5) == [-0.92106,  0.38942,  0.     ])\n",
    "sum(F_rot.axis['z'].vector.round(5) == [ 0.36295,  0.85846, -0.36236])"
   ]
  },
  {
   "cell_type": "code",
   "execution_count": 6,
   "metadata": {},
   "outputs": [],
   "source": [
    "import matplotlib.pyplot as plt"
   ]
  },
  {
   "cell_type": "code",
   "execution_count": 7,
   "metadata": {},
   "outputs": [
    {
     "data": {
      "text/plain": [
       "array([0.14, 0.33, 0.93])"
      ]
     },
     "execution_count": 7,
     "metadata": {},
     "output_type": "execute_result"
    }
   ],
   "source": [
    "F_rot.axis['x'].vector.round(2)"
   ]
  },
  {
   "cell_type": "code",
   "execution_count": 17,
   "metadata": {},
   "outputs": [
    {
     "name": "stdout",
     "output_type": "stream",
     "text": [
      "{'x': 0, 'y': 0, 'z': 0}\n",
      "[0 1 0]\n"
     ]
    },
    {
     "data": {
      "image/png": "[encoded data removed]",
      "text/plain": [
       "<Figure size 360x720 with 2 Axes>"
      ]
     },
     "metadata": {
      "needs_background": "light"
     },
     "output_type": "display_data"
    }
   ],
   "source": [
    "F = Frame()\n",
    "F.init_origin(0,0,0)\n",
    "print(F.origin.position)\n",
    "\n",
    "F.init_axis((0,1,0),\n",
    "            (1,0,0),\n",
    "           (0,0,1))\n",
    "print(F.axis['x'].vector)\n",
    "\n",
    "Ox = F.origin.position['x']\n",
    "Oy = F.origin.position['y']\n",
    "\n",
    "rot = RotationMatrix(0, 0, np.pi/4)\n",
    "rot1 = RotationMatrix(0, np.pi/2, 0)\n",
    "\n",
    "from copy import deepcopy\n",
    "\n",
    "F_rot = deepcopy(F)\n",
    "\n",
    "F_rot.apply_rotation(rot)\n",
    "F_rot.apply_rotation(rot1)\n",
    "\n",
    "fig, (ax0, ax1) = plt.subplots(2,figsize=(5,10))\n",
    "ax0.plot([Ox,F.axis['x'].x],[Oy,F.axis['x'].y], label='x')\n",
    "ax0.plot([Ox,F.axis['y'].x],[Oy,F.axis['y'].y], label='y')\n",
    "ax0.plot([Ox,F.axis['z'].x],[Oy,F.axis['z'].y], label='y')\n",
    "ax0.legend()\n",
    "ax1.plot([Ox,F_rot.axis['x'].x],[Oy,F_rot.axis['x'].y], label='x')\n",
    "ax1.plot([Ox,F_rot.axis['y'].x],[Oy,F_rot.axis['y'].y], label='y')\n",
    "ax1.plot([Ox,F_rot.axis['z'].x],[Oy,F_rot.axis['z'].y], label='z')\n",
    "ax1.legend()\n",
    "ax0.set_xlim(-1.5,1.5)\n",
    "ax0.set_ylim(-1.5,1.5)\n",
    "ax1.set_xlim(-1.5,1.5)\n",
    "ax1.set_ylim(-1.5,1.5)\n",
    "plt.show()"
   ]
  },
  {
   "cell_type": "code",
   "execution_count": 18,
   "metadata": {},
   "outputs": [
    {
     "name": "stdout",
     "output_type": "stream",
     "text": [
      "{'x': 0, 'y': 0, 'z': 0}\n",
      "[1 1 0]\n"
     ]
    },
    {
     "data": {
      "image/png": "[encoded data removed]",
      "text/plain": [
       "<Figure size 360x720 with 2 Axes>"
      ]
     },
     "metadata": {
      "needs_background": "light"
     },
     "output_type": "display_data"
    }
   ],
   "source": [
    "F = Frame()\n",
    "F.init_origin(0,0,0)\n",
    "print(F.origin.position)\n",
    "\n",
    "F.init_axis((1,1,0),\n",
    "            (1,-1,0),\n",
    "           (0,0,1))\n",
    "print(F.axis['x'].vector)\n",
    "\n",
    "Ox = F.origin.position['x']\n",
    "Oy = F.origin.position['y']\n",
    "\n",
    "rot0 = RotationMatrix(0,0,3/4*np.pi)\n",
    "rot1 = RotationMatrix(0,0,0)\n",
    "\n",
    "from copy import deepcopy\n",
    "\n",
    "F_rot = deepcopy(F)\n",
    "\n",
    "F_rot.apply_rotation(rot0)\n",
    "F_rot.apply_rotation(rot1)\n",
    "\n",
    "fig, (ax0, ax1) = plt.subplots(2,figsize=(5,10))\n",
    "ax0.plot([Ox,F.axis['x'].x],[Oy,F.axis['x'].y], label='x')\n",
    "ax0.plot([Ox,F.axis['y'].x],[Oy,F.axis['y'].y], label='y')\n",
    "ax0.plot([Ox,F.axis['z'].x],[Oy,F.axis['z'].y], label='z')\n",
    "ax0.legend()\n",
    "ax1.plot([Ox,F_rot.axis['x'].x],[Oy,F_rot.axis['x'].y], label='x')\n",
    "ax1.plot([Ox,F_rot.axis['y'].x],[Oy,F_rot.axis['y'].y], label='y')\n",
    "ax1.plot([Ox,F_rot.axis['z'].x],[Oy,F_rot.axis['z'].y], label='z')\n",
    "ax1.legend()\n",
    "ax0.set_xlim(-1.5,1.5)\n",
    "ax0.set_ylim(-1.5,1.5)\n",
    "ax1.set_xlim(-1.5,1.5)\n",
    "ax1.set_ylim(-1.5,1.5)\n",
    "plt.show()"
   ]
  },
  {
   "cell_type": "code",
   "execution_count": 16,
   "metadata": {},
   "outputs": [
    {
     "name": "stdout",
     "output_type": "stream",
     "text": [
      "{'x': 0, 'y': 0, 'z': 0}\n",
      "[1 0 0]\n"
     ]
    },
    {
     "data": {
      "image/png": "[encoded data removed]",
      "text/plain": [
       "<Figure size 360x720 with 2 Axes>"
      ]
     },
     "metadata": {
      "needs_background": "light"
     },
     "output_type": "display_data"
    }
   ],
   "source": [
    "F = Frame()\n",
    "F.init_origin(0,0,0)\n",
    "print(F.origin.position)\n",
    "\n",
    "F.init_axis((1,0,0),\n",
    "            (0,1,0),\n",
    "           (0,0,1))\n",
    "print(F.axis['x'].vector)\n",
    "\n",
    "Ox = F.origin.position['x']\n",
    "Oy = F.origin.position['y']\n",
    "\n",
    "rot0 = RotationMatrix(0,0,-3/4*np.pi)\n",
    "rot1 = RotationMatrix(1/2*np.pi,0,0)\n",
    "\n",
    "from copy import deepcopy\n",
    "\n",
    "F_rot = deepcopy(F)\n",
    "\n",
    "F_rot.apply_rotation(rot0)\n",
    "F_rot.apply_rotation(rot1)\n",
    "\n",
    "fig, (ax0, ax1) = plt.subplots(2,figsize=(5,10))\n",
    "ax0.plot([Ox,F.axis['x'].x],[Oy,F.axis['x'].y], label='x')\n",
    "ax0.plot([Ox,F.axis['y'].x],[Oy,F.axis['y'].y], label='y')\n",
    "ax0.plot([Ox,F.axis['z'].x],[Oy,F.axis['z'].y], label='z')\n",
    "ax0.legend()\n",
    "ax1.plot([Ox,F_rot.axis['x'].x],[Oy,F_rot.axis['x'].y], label='x')\n",
    "ax1.plot([Ox,F_rot.axis['y'].x],[Oy,F_rot.axis['y'].y], label='y')\n",
    "ax1.plot([Ox,F_rot.axis['z'].x],[Oy,F_rot.axis['z'].y], label='z')\n",
    "ax1.legend()\n",
    "ax0.set_xlim(-1.5,1.5)\n",
    "ax0.set_ylim(-1.5,1.5)\n",
    "ax1.set_xlim(-1.5,1.5)\n",
    "ax1.set_ylim(-1.5,1.5)\n",
    "plt.show()"
   ]
  },
  {
   "cell_type": "code",
   "execution_count": 20,
   "metadata": {},
   "outputs": [
    {
     "name": "stdout",
     "output_type": "stream",
     "text": [
      "{'x': 0, 'y': 0, 'z': 0}\n",
      "[1 0 0]\n"
     ]
    },
    {
     "data": {
      "image/png": "[encoded data removed]",
      "text/plain": [
       "<Figure size 360x720 with 2 Axes>"
      ]
     },
     "metadata": {
      "needs_background": "light"
     },
     "output_type": "display_data"
    }
   ],
   "source": [
    "F = Frame()\n",
    "F.init_origin(0,0,0)\n",
    "print(F.origin.position)\n",
    "\n",
    "F.init_axis((1,0,0),\n",
    "            (0,1,0),\n",
    "           (0,0,1))\n",
    "print(F.axis['x'].vector)\n",
    "\n",
    "Ox = F.origin.position['x']\n",
    "Oy = F.origin.position['y']\n",
    "\n",
    "rot = RotationMatrix(0, 0, np.pi/4)\n",
    "rot1 = RotationMatrix(0, np.pi/2, 0)\n",
    "\n",
    "tot_rot = np.linalg.multi_dot([rot1.rot_Y, rot0.rot_Z]).round(2)\n",
    "\n",
    "from copy import deepcopy\n",
    "\n",
    "F_rot = deepcopy(F)\n",
    "\n",
    "F_rot.apply_rotation(tot_rot)\n",
    "\n",
    "fig, (ax0, ax1) = plt.subplots(2,figsize=(5,10))\n",
    "ax0.plot([Ox,F.axis['x'].x],[Oy,F.axis['x'].y], label='x')\n",
    "ax0.plot([Ox,F.axis['y'].x],[Oy,F.axis['y'].y], label='y')\n",
    "ax0.plot([Ox,F.axis['z'].x],[Oy,F.axis['z'].y], label='z')\n",
    "ax0.legend()\n",
    "ax1.plot([Ox,F_rot.axis['x'].x],[Oy,F_rot.axis['x'].y], label='x')\n",
    "ax1.plot([Ox,F_rot.axis['y'].x],[Oy,F_rot.axis['y'].y], label='y')\n",
    "ax1.plot([Ox,F_rot.axis['z'].x],[Oy,F_rot.axis['z'].y], label='z')\n",
    "ax1.legend()\n",
    "ax0.set_xlim(-1.5,1.5)\n",
    "ax0.set_ylim(-1.5,1.5)\n",
    "ax1.set_xlim(-1.5,1.5)\n",
    "ax1.set_ylim(-1.5,1.5)\n",
    "plt.show()"
   ]
  }
 ],
 "metadata": {
  "kernelspec": {
   "display_name": "Python 3",
   "language": "python",
   "name": "python3"
  },
  "language_info": {
   "codemirror_mode": {
    "name": "ipython",
    "version": 3
   },
   "file_extension": ".py",
   "mimetype": "text/x-python",
   "name": "python",
   "nbconvert_exporter": "python",
   "pygments_lexer": "ipython3",
   "version": "3.8.5"
  }
 },
 "nbformat": 4,
 "nbformat_minor": 4
}
